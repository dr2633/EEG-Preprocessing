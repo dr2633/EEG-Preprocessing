{
 "cells": [
  {
   "cell_type": "code",
   "id": "initial_id",
   "metadata": {
    "collapsed": true,
    "ExecuteTime": {
     "end_time": "2024-08-22T17:22:38.461530Z",
     "start_time": "2024-08-22T17:21:40.649802Z"
    }
   },
   "source": [
    "import mne\n",
    "import numpy as np\n",
    "import librosa\n",
    "import os\n",
    "import pandas as pd\n",
    "\n",
    "base_path = '/Users/derekrosenzweig/Library/CloudStorage/GoogleDrive-dr2633@stanford.edu/My Drive/EEG-tones/Data/tones-data'\n",
    "\n",
    "file = f'{base_path}/sub-01-synchronization-test.mff'\n",
    "\n",
    "\n",
    "# Read in mff data with read_raw_egi\n",
    "raw = mne.io.read_raw_egi(file)\n",
    "\n",
    "# Get channel names\n",
    "channel_names = raw.ch_names\n",
    "print(\"\\nChannel names:\")\n",
    "print(channel_names)"
   ],
   "outputs": [
    {
     "name": "stdout",
     "output_type": "stream",
     "text": [
      "Intel MKL WARNING: Support of Intel(R) Streaming SIMD Extensions 4.2 (Intel(R) SSE4.2) enabled only processors has been deprecated. Intel oneAPI Math Kernel Library 2025.0 will require Intel(R) Advanced Vector Extensions (Intel(R) AVX) instructions.\n",
      "Intel MKL WARNING: Support of Intel(R) Streaming SIMD Extensions 4.2 (Intel(R) SSE4.2) enabled only processors has been deprecated. Intel oneAPI Math Kernel Library 2025.0 will require Intel(R) Advanced Vector Extensions (Intel(R) AVX) instructions.\n",
      "Reading EGI MFF Header from /Users/derekrosenzweig/Library/CloudStorage/GoogleDrive-dr2633@stanford.edu/My Drive/EEG-tones/Data/tones-data/sub-01-synchronization-test.mff...\n",
      "    Reading events ...\n",
      "    Assembling measurement info ...\n",
      "    Synthesizing trigger channel \"STI 014\" ...\n",
      "    Excluding events {} ...\n",
      "\n",
      "Channel names:\n",
      "['E1', 'E2', 'E3', 'E4', 'E5', 'E6', 'E7', 'E8', 'E9', 'E10', 'E11', 'E12', 'E13', 'E14', 'E15', 'E16', 'E17', 'E18', 'E19', 'E20', 'E21', 'E22', 'E23', 'E24', 'E25', 'E26', 'E27', 'E28', 'E29', 'E30', 'E31', 'E32', 'E33', 'E34', 'E35', 'E36', 'E37', 'E38', 'E39', 'E40', 'E41', 'E42', 'E43', 'E44', 'E45', 'E46', 'E47', 'E48', 'E49', 'E50', 'E51', 'E52', 'E53', 'E54', 'E55', 'E56', 'E57', 'E58', 'E59', 'E60', 'E61', 'E62', 'E63', 'E64', 'E65', 'E66', 'E67', 'E68', 'E69', 'E70', 'E71', 'E72', 'E73', 'E74', 'E75', 'E76', 'E77', 'E78', 'E79', 'E80', 'E81', 'E82', 'E83', 'E84', 'E85', 'E86', 'E87', 'E88', 'E89', 'E90', 'E91', 'E92', 'E93', 'E94', 'E95', 'E96', 'E97', 'E98', 'E99', 'E100', 'E101', 'E102', 'E103', 'E104', 'E105', 'E106', 'E107', 'E108', 'E109', 'E110', 'E111', 'E112', 'E113', 'E114', 'E115', 'E116', 'E117', 'E118', 'E119', 'E120', 'E121', 'E122', 'E123', 'E124', 'E125', 'E126', 'E127', 'E128', 'VREF', 'DIN1', 'DIN2', 'STI 014']\n"
     ]
    }
   ],
   "execution_count": 1
  },
  {
   "metadata": {
    "ExecuteTime": {
     "end_time": "2024-08-22T17:23:32.016912Z",
     "start_time": "2024-08-22T17:22:51.937538Z"
    }
   },
   "cell_type": "code",
   "source": [
    "# Find the trigger channel\n",
    "trigger_channel_name = 'STI 014'\n",
    "trigger_channel_index = channel_names.index(trigger_channel_name)\n",
    "print(f\"\\nTrigger channel '{trigger_channel_name}' found at index:\", trigger_channel_index)\n",
    "\n",
    "# Find the reference channel\n",
    "reference_channel_name = 'VREF'\n",
    "reference_channel_index = channel_names.index(reference_channel_name)\n",
    "print(f\"\\nReference channel '{reference_channel_name}' found at index:\", reference_channel_index)\n",
    "\n",
    "# Extract EEG data\n",
    "eeg_data = raw.get_data()"
   ],
   "id": "77157d62282d1e00",
   "outputs": [
    {
     "name": "stdout",
     "output_type": "stream",
     "text": [
      "\n",
      "Trigger channel 'STI 014' found at index: 131\n",
      "\n",
      "Reference channel 'VREF' found at index: 128\n"
     ]
    }
   ],
   "execution_count": 2
  },
  {
   "metadata": {
    "ExecuteTime": {
     "end_time": "2024-08-22T17:24:38.649144Z",
     "start_time": "2024-08-22T17:24:38.604500Z"
    }
   },
   "cell_type": "code",
   "source": [
    "# Print shape of EEG data\n",
    "print(\"\\nShape of EEG data:\", np.shape(eeg_data))\n",
    "\n",
    "# Access trigger channel data\n",
    "trigger_channel_data = eeg_data[trigger_channel_index, :]\n",
    "\n",
    "# Find events for channel 1 only\n",
    "events = mne.find_events(raw, stim_channel=trigger_channel_name)\n",
    "\n",
    "# Filter events where the third column is equal to 1\n",
    "events_channel_1 = events[events[:, 2] == 1]\n",
    "\n",
    "# Print the first few events for channel 1\n",
    "print(\"\\nFirst few events for channel 1:\")\n",
    "print(events_channel_1[:100])\n"
   ],
   "id": "2d4833fbdb8b7740",
   "outputs": [
    {
     "name": "stdout",
     "output_type": "stream",
     "text": [
      "\n",
      "Shape of EEG data: (132, 348673)\n",
      "689 events found on stim channel STI 014\n",
      "Event IDs: [1 2]\n",
      "\n",
      "First few events for channel 1:\n",
      "[[ 1909     0     1]\n",
      " [ 2409     0     1]\n",
      " [ 2909     0     1]\n",
      " [ 3409     0     1]\n",
      " [ 3909     0     1]\n",
      " [ 4409     0     1]\n",
      " [ 4909     0     1]\n",
      " [ 5409     0     1]\n",
      " [ 5909     0     1]\n",
      " [ 6409     0     1]\n",
      " [ 6909     0     1]\n",
      " [ 7409     0     1]\n",
      " [ 7909     0     1]\n",
      " [ 8409     0     1]\n",
      " [ 8909     0     1]\n",
      " [ 9409     0     1]\n",
      " [ 9909     0     1]\n",
      " [10409     0     1]\n",
      " [10909     0     1]\n",
      " [11409     0     1]\n",
      " [11909     0     1]\n",
      " [12409     0     1]\n",
      " [12909     0     1]\n",
      " [13409     0     1]\n",
      " [13909     0     1]\n",
      " [14409     0     1]\n",
      " [14909     0     1]\n",
      " [15409     0     1]\n",
      " [15909     0     1]\n",
      " [16409     0     1]\n",
      " [16909     0     1]\n",
      " [17409     0     1]\n",
      " [17909     0     1]\n",
      " [18409     0     1]\n",
      " [18909     0     1]\n",
      " [19409     0     1]\n",
      " [19909     0     1]\n",
      " [20409     0     1]\n",
      " [20909     0     1]\n",
      " [21409     0     1]\n",
      " [21909     0     1]\n",
      " [22409     0     1]\n",
      " [22909     0     1]\n",
      " [23409     0     1]\n",
      " [23909     0     1]\n",
      " [24409     0     1]\n",
      " [24909     0     1]\n",
      " [25409     0     1]\n",
      " [25909     0     1]\n",
      " [26408     0     1]\n",
      " [26908     0     1]\n",
      " [27408     0     1]\n",
      " [27908     0     1]\n",
      " [28408     0     1]\n",
      " [28908     0     1]\n",
      " [29408     0     1]\n",
      " [29908     0     1]\n",
      " [30408     0     1]\n",
      " [30908     0     1]\n",
      " [31408     0     1]\n",
      " [31908     0     1]\n",
      " [32408     0     1]\n",
      " [32908     0     1]\n",
      " [33408     0     1]\n",
      " [33908     0     1]\n",
      " [34408     0     1]\n",
      " [34908     0     1]\n",
      " [35408     0     1]\n",
      " [35908     0     1]\n",
      " [36408     0     1]\n",
      " [36908     0     1]\n",
      " [37408     0     1]\n",
      " [37908     0     1]\n",
      " [38408     0     1]\n",
      " [38908     0     1]\n",
      " [39408     0     1]\n",
      " [39908     0     1]\n",
      " [40408     0     1]\n",
      " [40908     0     1]\n",
      " [41408     0     1]\n",
      " [41908     0     1]\n",
      " [42408     0     1]\n",
      " [42908     0     1]\n",
      " [43408     0     1]\n",
      " [43908     0     1]\n",
      " [44408     0     1]\n",
      " [44908     0     1]\n",
      " [45408     0     1]\n",
      " [45908     0     1]\n",
      " [46408     0     1]\n",
      " [46908     0     1]\n",
      " [47408     0     1]\n",
      " [47908     0     1]\n",
      " [48408     0     1]\n",
      " [48908     0     1]\n",
      " [49408     0     1]\n",
      " [49908     0     1]\n",
      " [50408     0     1]\n",
      " [50908     0     1]\n",
      " [51408     0     1]]\n"
     ]
    }
   ],
   "execution_count": 4
  },
  {
   "metadata": {
    "ExecuteTime": {
     "end_time": "2024-08-22T17:29:46.362267Z",
     "start_time": "2024-08-22T17:29:45.982050Z"
    }
   },
   "cell_type": "code",
   "source": [
    "import matplotlib.pyplot as plt\n",
    "\n",
    "event_times = events[:,0]\n",
    "\n",
    "plt.plot(np.diff(event_times))\n",
    "plt.show()"
   ],
   "id": "91b323da6cc7d59",
   "outputs": [
    {
     "data": {
      "text/plain": [
       "<Figure size 640x480 with 1 Axes>"
      ],
      "image/png": "[encoded data removed]"
     },
     "metadata": {},
     "output_type": "display_data"
    }
   ],
   "execution_count": 5
  },
  {
   "metadata": {},
   "cell_type": "code",
   "outputs": [],
   "execution_count": null,
   "source": "",
   "id": "d8731c37d5004a33"
  }
 ],
 "metadata": {
  "kernelspec": {
   "display_name": "Python 3",
   "language": "python",
   "name": "python3"
  },
  "language_info": {
   "codemirror_mode": {
    "name": "ipython",
    "version": 2
   },
   "file_extension": ".py",
   "mimetype": "text/x-python",
   "name": "python",
   "nbconvert_exporter": "python",
   "pygments_lexer": "ipython2",
   "version": "2.7.6"
  }
 },
 "nbformat": 4,
 "nbformat_minor": 5
}
